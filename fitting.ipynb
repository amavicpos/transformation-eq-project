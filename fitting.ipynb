{
 "cells": [
  {
   "cell_type": "code",
   "execution_count": 85,
   "metadata": {},
   "outputs": [],
   "source": [
    "import pandas as pd\n",
    "import numpy as np\n",
    "from scipy.optimize import curve_fit"
   ]
  },
  {
   "cell_type": "code",
   "execution_count": 86,
   "metadata": {},
   "outputs": [],
   "source": [
    "data = pd.read_csv('result_cep_corr_col.csv')"
   ]
  },
  {
   "cell_type": "code",
   "execution_count": 87,
   "metadata": {},
   "outputs": [],
   "source": [
    "# Assuming 'data' is your pandas DataFrame containing the dataset\n",
    "# Calculate the color difference m_R - m_G\n",
    "data['Colour_B_V'] = data['Apparent magnitude B (known)'] - data['Apparent magnitude V (known)']\n",
    "data['Colour_G_R'] = data['Apparent magnitude G (known)'] - data['Apparent magnitude R (known)']"
   ]
  },
  {
   "cell_type": "code",
   "execution_count": 88,
   "metadata": {},
   "outputs": [],
   "source": [
    "# pd.set_option('display.max_rows', None)\n",
    "# pd.set_option('display.max_columns', None)\n",
    "# data"
   ]
  },
  {
   "cell_type": "code",
   "execution_count": 89,
   "metadata": {},
   "outputs": [
    {
     "name": "stdout",
     "output_type": "stream",
     "text": [
      "Coefficients and Standard Errors for Visual Filter (V):\n",
      "Intercept (a_V): -12.614356852754304 ± 0.15681292240848657\n",
      "b_V1 (Airmass): 0.2800425000548933 ± 0.10762024822217232\n",
      "b_V2 (Colour_B_V): -0.8840305725259716 ± 0.09711029970156228\n"
     ]
    }
   ],
   "source": [
    "# Linear model function for curve_fit\n",
    "def linear_model(x, a, b1, b2):\n",
    "    return a + b1 * x[:, 0] + b2 * x[:, 1]\n",
    "\n",
    "# Ensure consistent dropping of NaN values\n",
    "data_filtered = data.dropna(subset=['Airmass', 'Colour_B_V', 'Corrected magnitude G (instrumental)'])\n",
    "\n",
    "X_V = data_filtered[['Airmass', 'Colour_B_V']]\n",
    "y_V = data_filtered['Corrected magnitude G (instrumental)'] - data_filtered['Apparent magnitude V (known)']\n",
    "\n",
    "# Fit the curve\n",
    "params_V, covariance_V = curve_fit(linear_model, X_V.values, y_V.values)\n",
    "\n",
    "# Calculate standard errors from covariance matrix\n",
    "standard_errors_V = np.sqrt(np.diag(covariance_V))\n",
    "\n",
    "print(\"Coefficients and Standard Errors for Visual Filter (V):\")\n",
    "print(\"Intercept (a_V):\", params_V[0], \"±\", standard_errors_V[0])\n",
    "print(\"b_V1 (Airmass):\", params_V[1], \"±\", standard_errors_V[1])\n",
    "print(\"b_V2 (Colour_B_V):\", params_V[2], \"±\", standard_errors_V[2])"
   ]
  },
  {
   "cell_type": "code",
   "execution_count": 90,
   "metadata": {},
   "outputs": [
    {
     "name": "stdout",
     "output_type": "stream",
     "text": [
      "Coefficients and Standard Errors for Visual Filter (B):\n",
      "Intercept (a_B): -12.729373744720299 ± 0.1620061760220969\n",
      "b_B1 (Airmass): -0.06334011851510746 ± 0.1115305211262165\n",
      "b_B2 (Colour_B_V): -1.8949278665333384 ± 0.10024261419073441\n"
     ]
    }
   ],
   "source": [
    "# Ensure consistent dropping of NaN values\n",
    "data_filtered = data.dropna(subset=['Airmass', 'Colour_B_V', 'Corrected magnitude B (instrumental)'])\n",
    "\n",
    "X_V = data_filtered[['Airmass', 'Colour_B_V']]\n",
    "y_V = data_filtered['Corrected magnitude B (instrumental)'] - data_filtered['Apparent magnitude B (known)']\n",
    "\n",
    "# Fit the curve\n",
    "params_V, covariance_V = curve_fit(linear_model, X_V.values, y_V.values)\n",
    "\n",
    "# Calculate standard errors from covariance matrix\n",
    "standard_errors_V = np.sqrt(np.diag(covariance_V))\n",
    "\n",
    "print(\"Coefficients and Standard Errors for Visual Filter (B):\")\n",
    "print(\"Intercept (a_B):\", params_V[0], \"±\", standard_errors_V[0])\n",
    "print(\"b_B1 (Airmass):\", params_V[1], \"±\", standard_errors_V[1])\n",
    "print(\"b_B2 (Colour_B_V):\", params_V[2], \"±\", standard_errors_V[2])"
   ]
  },
  {
   "cell_type": "code",
   "execution_count": 91,
   "metadata": {},
   "outputs": [
    {
     "name": "stdout",
     "output_type": "stream",
     "text": [
      "Coefficients and Standard Errors for Visual Filter (R):\n",
      "Intercept (a_R): -13.43504786060291 ± 0.25558367533371246\n",
      "b_R1 (Airmass): -0.47543614360066433 ± 0.18170009345210159\n",
      "b_R2 (Colour_G_R): 1.4845696104972654 ± 0.16554291937943477\n"
     ]
    }
   ],
   "source": [
    "# Ensure consistent dropping of NaN values\n",
    "data_filtered = data.dropna(subset=['Airmass', 'Colour_G_R', 'Corrected magnitude R (instrumental)'])\n",
    "\n",
    "X_V = data_filtered[['Airmass', 'Colour_G_R']]\n",
    "y_V = data_filtered['Corrected magnitude R (instrumental)'] - data_filtered['Apparent magnitude R (known)']\n",
    "\n",
    "# Fit the curve\n",
    "params_V, covariance_V = curve_fit(linear_model, X_V.values, y_V.values)\n",
    "\n",
    "# Calculate standard errors from covariance matrix\n",
    "standard_errors_V = np.sqrt(np.diag(covariance_V))\n",
    "\n",
    "print(\"Coefficients and Standard Errors for Visual Filter (R):\")\n",
    "print(\"Intercept (a_R):\", params_V[0], \"±\", standard_errors_V[0])\n",
    "print(\"b_R1 (Airmass):\", params_V[1], \"±\", standard_errors_V[1])\n",
    "print(\"b_R2 (Colour_G_R):\", params_V[2], \"±\", standard_errors_V[2])"
   ]
  }
 ],
 "metadata": {
  "kernelspec": {
   "display_name": "Python 3",
   "language": "python",
   "name": "python3"
  },
  "language_info": {
   "codemirror_mode": {
    "name": "ipython",
    "version": 3
   },
   "file_extension": ".py",
   "mimetype": "text/x-python",
   "name": "python",
   "nbconvert_exporter": "python",
   "pygments_lexer": "ipython3",
   "version": "3.10.2"
  }
 },
 "nbformat": 4,
 "nbformat_minor": 2
}
