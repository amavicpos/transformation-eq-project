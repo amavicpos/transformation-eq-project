{
 "cells": [
  {
   "cell_type": "markdown",
   "metadata": {},
   "source": [
    "For the TYC-3023-1974-1 and RZ Cep datasets"
   ]
  },
  {
   "cell_type": "code",
   "execution_count": null,
   "metadata": {},
   "outputs": [],
   "source": [
    "import pandas as pd"
   ]
  },
  {
   "cell_type": "code",
   "execution_count": null,
   "metadata": {},
   "outputs": [],
   "source": [
    "data = pd.read_csv('Results/result_cep_corr.csv')"
   ]
  },
  {
   "cell_type": "code",
   "execution_count": null,
   "metadata": {},
   "outputs": [],
   "source": [
    "# Ensure the \"Date\" column is in datetime format\n",
    "data[\"Date\"] = pd.to_datetime(data[\"Date\"], format=\"%Y-%m-%dT%H:%M:%S.%f\")\n",
    "\n",
    "# List of bands to create separate DataFrames\n",
    "bands = [\"R\", \"G\", \"B\"]\n",
    "\n",
    "# Create a dictionary to hold DataFrames for each band and drop rows with missing apparent magnitudes\n",
    "band_dfs = {}\n",
    "for band in bands:\n",
    "    band_cols = [\"Object\", \"Date\", f\"Apparent magnitude {band} (instrumental)\"]\n",
    "    band_dfs[band] = data[band_cols].dropna(subset=[f\"Apparent magnitude {band} (instrumental)\"])\n",
    "\n",
    "# Function to correct a band's DataFrame\n",
    "def correct_band_dataframe(df, band):\n",
    "    # Find the reference date for this band\n",
    "    object_count_per_date = df.groupby(\"Date\")[\"Object\"].nunique()\n",
    "    reference_date = object_count_per_date.idxmax()\n",
    "    \n",
    "    # Initialize a DataFrame to hold the average magnitude differences\n",
    "    avg_mag_diff = pd.DataFrame(columns=[\"Date\", \"Avg_Magnitude_Difference\"])\n",
    "    \n",
    "    # Loop through each unique date in this band's DataFrame\n",
    "    unique_dates = df[\"Date\"].unique()\n",
    "    for date in unique_dates:\n",
    "        if date == reference_date:\n",
    "            continue  # Skip the reference date itself\n",
    "        \n",
    "        # Find common objects between the reference date and the current date\n",
    "        ref_mag_col = f\"Apparent magnitude {band} (instrumental)\"\n",
    "        common_stars = df[df[\"Date\"] == reference_date][[\"Object\", ref_mag_col]].merge(\n",
    "            df[df[\"Date\"] == date][[\"Object\", ref_mag_col]], on=\"Object\", suffixes=(\"_ref\", \"_other\")\n",
    "        )\n",
    "        \n",
    "        if common_stars.empty:\n",
    "            # If no common stars, set average difference to zero\n",
    "            avg_mag_diff = avg_mag_diff.append({\n",
    "                \"Date\": date,\n",
    "                \"Avg_Magnitude_Difference\": 0.0\n",
    "            }, ignore_index=True)\n",
    "        else:\n",
    "            # Calculate the average magnitude difference\n",
    "            mag_difference = common_stars[f\"{ref_mag_col}_ref\"] - common_stars[f\"{ref_mag_col}_other\"]\n",
    "            avg_diff = mag_difference.mean()\n",
    "            avg_mag_diff = avg_mag_diff.append({\n",
    "                \"Date\": date,\n",
    "                \"Avg_Magnitude_Difference\": avg_diff\n",
    "            }, ignore_index=True)\n",
    "\n",
    "    # Adjust magnitudes for the current band\n",
    "    new_mag_col = f\"Corrected magnitude {band} (instrumental)\"\n",
    "    for date in unique_dates:\n",
    "        if date == reference_date:\n",
    "            continue\n",
    "        \n",
    "        original_mag_col = f\"Apparent magnitude {band} (instrumental)\"\n",
    "        row = avg_mag_diff[avg_mag_diff[\"Date\"] == date]\n",
    "        \n",
    "        avg_diff = 0.0\n",
    "        if not row.empty:\n",
    "            avg_diff = row[\"Avg_Magnitude_Difference\"].values[0]\n",
    "        \n",
    "        df.loc[df[\"Date\"] == date, new_mag_col] = df.loc[df[\"Date\"] == date, original_mag_col] + avg_diff\n",
    "    df[df[\"Date\"] == reference_date][f\"Corrected magnitude {band} (instrumental)\"] = df[df[\"Date\"] == reference_date][f\"Apparent magnitude {band} (instrumental)\"]\n",
    "    df.drop(f\"Apparent magnitude {band} (instrumental)\", axis=1, inplace=True)\n",
    "    return df\n",
    "\n",
    "# correct each band's DataFrame\n",
    "for band in bands:\n",
    "    band_dfs[band] = correct_band_dataframe(band_dfs[band], band)\n",
    "\n",
    "# Join the correctd DataFrames based on \"Date\" and \"Object\"\n",
    "joined_df = band_dfs[\"R\"]\n",
    "for band in [\"G\", \"B\"]:\n",
    "    joined_df = joined_df.merge(band_dfs[band], on=[\"Object\", \"Date\"], how=\"outer\")"
   ]
  },
  {
   "cell_type": "code",
   "execution_count": null,
   "metadata": {},
   "outputs": [],
   "source": [
    "final_df = data.merge(joined_df, on=[\"Object\", \"Date\"], how=\"outer\")\n",
    "final_df.to_csv('Results/result_cep_corr_1.csv', index=False)"
   ]
  }
 ],
 "metadata": {
  "kernelspec": {
   "display_name": "Python 3 (ipykernel)",
   "language": "python",
   "name": "python3"
  },
  "language_info": {
   "codemirror_mode": {
    "name": "ipython",
    "version": 3
   },
   "file_extension": ".py",
   "mimetype": "text/x-python",
   "name": "python",
   "nbconvert_exporter": "python",
   "pygments_lexer": "ipython3",
   "version": "3.11.3"
  }
 },
 "nbformat": 4,
 "nbformat_minor": 2
}
