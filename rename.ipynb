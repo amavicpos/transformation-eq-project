{
 "cells": [
  {
   "cell_type": "markdown",
   "metadata": {},
   "source": [
    "For the TYC-3023-1974-1 and RZ Cep datasets"
   ]
  },
  {
   "cell_type": "code",
   "execution_count": null,
   "metadata": {},
   "outputs": [],
   "source": [
    "import os\n",
    "import shutil"
   ]
  },
  {
   "cell_type": "code",
   "execution_count": null,
   "metadata": {},
   "outputs": [],
   "source": [
    "def rename_files(root_folder):\n",
    "    for root, dirs, files in os.walk(root_folder):\n",
    "        for filename in files:\n",
    "            if filename.startswith(\"Standard_2_\"):\n",
    "                old_path = os.path.join(root, filename)\n",
    "                new_filename = filename.replace(\"Standard_2_\", \"Stand_\")\n",
    "                new_path = os.path.join(root, new_filename)\n",
    "                os.rename(old_path, new_path)\n",
    "                print(f\"Renamed: {old_path} to {new_path}\")\n",
    "\n",
    "# Replace 'path_to_folder' with the path to the folder containing the files\n",
    "rename_files('Data')"
   ]
  },
  {
   "cell_type": "code",
   "execution_count": null,
   "metadata": {},
   "outputs": [],
   "source": [
    "def remove_files_with_keyword(root_folder, keyword):\n",
    "    for folder_path, _, file_names in os.walk(root_folder):\n",
    "        for file_name in file_names:\n",
    "            if keyword in file_name:\n",
    "                file_path = os.path.join(folder_path, file_name)\n",
    "                os.remove(file_path)\n",
    "                print(f\"Removed: {file_path}\")\n",
    "\n",
    "# Replace 'folder_path' with the path to the folder containing your files\n",
    "folder_path = 'Data'\n",
    "keyword = \"saturated\"\n",
    "\n",
    "remove_files_with_keyword(folder_path, keyword)"
   ]
  },
  {
   "cell_type": "code",
   "execution_count": null,
   "metadata": {},
   "outputs": [],
   "source": [
    "def remove_luminance_folders(root_folder):\n",
    "    for root, dirs, files in os.walk(root_folder, topdown=False):\n",
    "        for name in dirs:\n",
    "            if name.lower() == \"luminance\":\n",
    "                folder_path = os.path.join(root, name)\n",
    "                print(f\"Removing folder: {folder_path}\")\n",
    "                shutil.rmtree(folder_path)\n",
    "\n",
    "# Example usage:\n",
    "folder_to_search = 'Data'\n",
    "remove_luminance_folders(folder_to_search)\n"
   ]
  },
  {
   "cell_type": "code",
   "execution_count": null,
   "metadata": {},
   "outputs": [],
   "source": [
    "def rename_files(root_dir):\n",
    "    for root, dirs, files in os.walk(root_dir):\n",
    "        for filename in files:\n",
    "            if filename.startswith(\"RZ_Cep_\"):\n",
    "                original_path = os.path.join(root, filename)\n",
    "                new_filename = filename.replace(\"RZ_Cep_\", \"Cep2_\")\n",
    "                new_path = os.path.join(root, new_filename)\n",
    "                os.rename(original_path, new_path)\n",
    "                print(f\"Renamed {filename} to {new_filename}\")\n",
    "\n",
    "# Replace 'root_directory' with the path of the directory you want to start traversing.\n",
    "root_directory = 'Data'\n",
    "rename_files(root_directory)\n"
   ]
  },
  {
   "cell_type": "code",
   "execution_count": null,
   "metadata": {},
   "outputs": [],
   "source": [
    "def rename_files(root_folder):\n",
    "    for root, dirs, files in os.walk(root_folder):\n",
    "        for file in files:\n",
    "            if file.startswith(\"Light_\"):\n",
    "                old_path = os.path.join(root, file)\n",
    "                new_file = file.replace(\"Light_\", \"hey_Light_\")\n",
    "                new_path = os.path.join(root, new_file)\n",
    "                os.rename(old_path, new_path)\n",
    "                print(f\"Renamed: {old_path} -> {new_path}\")\n",
    "\n",
    "# Replace 'root_folder' with the path to the folder you want to start from\n",
    "root_folder = 'Data'\n",
    "rename_files(root_folder)\n"
   ]
  }
 ],
 "metadata": {
  "kernelspec": {
   "display_name": "base",
   "language": "python",
   "name": "python3"
  },
  "language_info": {
   "codemirror_mode": {
    "name": "ipython",
    "version": 3
   },
   "file_extension": ".py",
   "mimetype": "text/x-python",
   "name": "python",
   "nbconvert_exporter": "python",
   "pygments_lexer": "ipython3",
   "version": "3.11.3"
  }
 },
 "nbformat": 4,
 "nbformat_minor": 2
}
