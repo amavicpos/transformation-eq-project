{
 "cells": [
  {
   "cell_type": "markdown",
   "metadata": {},
   "source": [
    "For the March 2024 Sky 1 and 2 datasets"
   ]
  },
  {
   "cell_type": "code",
   "execution_count": null,
   "metadata": {},
   "outputs": [],
   "source": [
    "import os\n",
    "from pathlib import Path"
   ]
  },
  {
   "cell_type": "code",
   "execution_count": null,
   "metadata": {},
   "outputs": [],
   "source": [
    "def list_files_in_directory(root_directory):\n",
    "    file_list = []\n",
    "    for dirpath, dirnames, filenames in os.walk(root_directory):\n",
    "        for filename in filenames:\n",
    "            full_path = os.path.join(dirpath, filename)\n",
    "            file_list.append(full_path)\n",
    "    return file_list\n",
    "\n",
    "# Example usage\n",
    "root_directory = \"Data\"\n",
    "files = list_files_in_directory(root_directory)\n",
    "\n",
    "for file in files:\n",
    "    print(file)"
   ]
  },
  {
   "cell_type": "code",
   "execution_count": null,
   "metadata": {},
   "outputs": [],
   "source": [
    "def remove_jc_from_filenames(root_directory):\n",
    "    for dirpath, dirnames, filenames in os.walk(root_directory):\n",
    "        for filename in filenames:\n",
    "            if \"JC\" in filename:\n",
    "                # New filename with 'JC' removed\n",
    "                new_filename = filename.replace(\"_JC\", \"\")\n",
    "                # Full source and destination paths\n",
    "                old_path = os.path.join(dirpath, filename)\n",
    "                new_path = os.path.join(dirpath, new_filename)\n",
    "                # Rename the file\n",
    "                os.rename(old_path, new_path)\n",
    "\n",
    "# Example usage\n",
    "root_directory = \"Data\"\n",
    "remove_jc_from_filenames(root_directory)"
   ]
  },
  {
   "cell_type": "code",
   "execution_count": null,
   "metadata": {},
   "outputs": [],
   "source": [
    "# Define a dictionary for pattern replacement\n",
    "replacement_dict = {\n",
    "    \"_U_\": \"_Ultraviolet_\",\n",
    "    \"_B_\": \"_Blue_\",\n",
    "    \"_R_\": \"_Red_\",\n",
    "    \"_G_\": \"_Green_\",\n",
    "    \"_V_\": \"_Visual_\"\n",
    "}\n",
    "\n",
    "# Function to perform replacements\n",
    "def replace_patterns_in_filenames(root_directory, replacements):\n",
    "    path = Path(root_directory)\n",
    "    for file in path.rglob('*'):  # Get all files in all subfolders\n",
    "        if file.is_file():\n",
    "            original_name = file.name\n",
    "            new_name = original_name\n",
    "            \n",
    "            # Apply replacements\n",
    "            for old, new in replacements.items():\n",
    "                new_name = new_name.replace(old, new)\n",
    "            \n",
    "            if new_name != original_name:  # Only rename if there are changes\n",
    "                new_path = file.parent / new_name\n",
    "                file.rename(new_path)  # Rename the file\n",
    "\n",
    "# Example usage\n",
    "root_directory = \"Data\"\n",
    "replace_patterns_in_filenames(root_directory, replacement_dict)"
   ]
  }
 ],
 "metadata": {
  "kernelspec": {
   "display_name": "Python 3",
   "language": "python",
   "name": "python3"
  },
  "language_info": {
   "codemirror_mode": {
    "name": "ipython",
    "version": 3
   },
   "file_extension": ".py",
   "mimetype": "text/x-python",
   "name": "python",
   "nbconvert_exporter": "python",
   "pygments_lexer": "ipython3",
   "version": "3.10.2"
  }
 },
 "nbformat": 4,
 "nbformat_minor": 2
}
